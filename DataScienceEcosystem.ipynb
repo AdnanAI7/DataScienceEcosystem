{
 "cells": [
  {
   "cell_type": "markdown",
   "id": "2e04adbb-d798-4e0c-a909-b9ac230f80d1",
   "metadata": {},
   "source": [
    "# Data Science Tools and Ecosystem"
   ]
  },
  {
   "cell_type": "markdown",
   "id": "99d172b3-e597-45dd-9861-7b8e6b0d3274",
   "metadata": {},
   "source": [
    "## In this notebook, Data Science Tools and Ecosystem are sumarized.\n"
   ]
  },
  {
   "cell_type": "markdown",
   "id": "33bf73fe-f7e7-40d0-8095-4543f7cc09bd",
   "metadata": {},
   "source": [
    "**Objectives:**\n",
    "* List of popular languages for Data Science\n",
    "* List of commonly used libraries for Data Science\n",
    "* Data Science Tools\n",
    "* Evalvating Arithmetic expressions in Python"
   ]
  },
  {
   "cell_type": "markdown",
   "id": "359c23aa-f95b-4272-9a84-698a99441648",
   "metadata": {},
   "source": [
    "**Some of the popular languages that Data Scientists use are:**\n",
    "  "
   ]
  },
  {
   "cell_type": "markdown",
   "id": "bf9c643f-80c6-4a12-a70e-6b8017671da0",
   "metadata": {},
   "source": [
    "1. Python\n",
    "2. R\n",
    "3. Ruby\n",
    "4. Java\n",
    "5. C++"
   ]
  },
  {
   "cell_type": "markdown",
   "id": "7db4c8e3-2914-4960-b726-77620e125d63",
   "metadata": {},
   "source": [
    "**Some of the commonly used libraries used by Data Scientists include:**"
   ]
  },
  {
   "cell_type": "markdown",
   "id": "b86a1496-be59-4907-bee4-fc4a0c62c583",
   "metadata": {},
   "source": [
    "1. Numpy\n",
    "2. Pandas\n",
    "3. Matplotlib\n",
    "4. Seaborn\n",
    "5. SciPy"
   ]
  },
  {
   "cell_type": "markdown",
   "id": "ba5a935d-c3fa-4f4b-a98e-6aeb2d9e62a8",
   "metadata": {},
   "source": [
    "|Data Science Tools|\n",
    "|------------------|\n",
    "|Jupyter Notebook  |\n",
    "|Google Collab     |\n",
    "|Hadoop            |\n",
    "|R Studio          |"
   ]
  },
  {
   "cell_type": "markdown",
   "id": "a75f0248-6e1e-4b3f-a13b-8b45b960b8eb",
   "metadata": {},
   "source": [
    "### Evaluating arithmetic expressions in Python "
   ]
  },
  {
   "cell_type": "code",
   "execution_count": 7,
   "id": "e600e0e9-1a90-4d97-977c-b12be95e0a2a",
   "metadata": {},
   "outputs": [
    {
     "data": {
      "text/plain": [
       "17"
      ]
     },
     "execution_count": 7,
     "metadata": {},
     "output_type": "execute_result"
    }
   ],
   "source": [
    "#This is a simple arithmetic expression to multiply then add integers\n",
    "(3*4)+5 "
   ]
  },
  {
   "cell_type": "code",
   "execution_count": 8,
   "id": "ffe09145-7c13-467c-891e-0fdb393f8767",
   "metadata": {},
   "outputs": [
    {
     "name": "stdout",
     "output_type": "stream",
     "text": [
      "3.3333333333333335\n"
     ]
    }
   ],
   "source": [
    "m = 200 #m stands for minutes\n",
    "#This will convert 200 minutes to hours by dividing by 60\n",
    "h = m/60 # h stands for hours\n",
    "print(h) #will print value in hours"
   ]
  },
  {
   "cell_type": "markdown",
   "id": "8349029e-17c8-4663-8bd8-348129863d6d",
   "metadata": {},
   "source": [
    "## Adnan Jakirhusen Mujawar"
   ]
  }
 ],
 "metadata": {
  "kernelspec": {
   "display_name": "Python 3 (ipykernel)",
   "language": "python",
   "name": "python3"
  },
  "language_info": {
   "codemirror_mode": {
    "name": "ipython",
    "version": 3
   },
   "file_extension": ".py",
   "mimetype": "text/x-python",
   "name": "python",
   "nbconvert_exporter": "python",
   "pygments_lexer": "ipython3",
   "version": "3.12.8"
  }
 },
 "nbformat": 4,
 "nbformat_minor": 5
}
